{
 "cells": [
  {
   "cell_type": "code",
   "execution_count": 1,
   "metadata": {
    "collapsed": true
   },
   "outputs": [],
   "source": [
    "%matplotlib inline\n",
    "import numpy as np\n",
    "import matplotlib.pyplot as plt\n",
    "import pandas as pd\n",
    "from sklearn.linear_model import LinearRegression"
   ]
  },
  {
   "cell_type": "code",
   "execution_count": 2,
   "metadata": {
    "collapsed": false
   },
   "outputs": [],
   "source": [
    "df = pd.read_csv('../data/citations.csv')"
   ]
  },
  {
   "cell_type": "code",
   "execution_count": 3,
   "metadata": {
    "collapsed": false
   },
   "outputs": [
    {
     "name": "stdout",
     "output_type": "stream",
     "text": [
      "-1.949 (R^2 = 0.9931 )\n"
     ]
    }
   ],
   "source": [
    "\n",
    "prob, bins = np.histogram(df.Citations+4, bins= list(2**np.arange(2,11)), normed=True)\n",
    "\n",
    "lr = LinearRegression()\n",
    "lr.fit(np.log(bins[0:-1].reshape(-1,1)),np.log(prob[0:]))\n",
    "print(np.round(lr.coef_[0],3), '(R^2 =',np.round(lr.score(np.log(bins[0:-1].reshape(-1,1)),np.log(prob[0:])),4),')')\n",
    "x = np.arange(3, 1000).reshape(-1,1)\n",
    "y = np.exp(lr.predict(np.log(x)))"
   ]
  },
  {
   "cell_type": "code",
   "execution_count": 4,
   "metadata": {
    "collapsed": false
   },
   "outputs": [
    {
     "data": {
      "image/png": "[encoded data removed]",
      "text/plain": [
       "<matplotlib.figure.Figure at 0x7f784f1ee588>"
      ]
     },
     "metadata": {},
     "output_type": "display_data"
    }
   ],
   "source": [
    "plt.loglog(bins[:-1], prob, 'o')\n",
    "plt.xlabel('Number of citations + 4')\n",
    "plt.ylabel('Probability')\n",
    "plt.xlim(3,1000)\n",
    "plt.ylim(10**-5,1)\n",
    "plt.plot(x,y);\n",
    "plt.title('All journals');"
   ]
  },
  {
   "cell_type": "code",
   "execution_count": null,
   "metadata": {
    "collapsed": true
   },
   "outputs": [],
   "source": []
  }
 ],
 "metadata": {
  "kernelspec": {
   "display_name": "Python 3",
   "language": "python",
   "name": "python3"
  },
  "language_info": {
   "codemirror_mode": {
    "name": "ipython",
    "version": 3
   },
   "file_extension": ".py",
   "mimetype": "text/x-python",
   "name": "python",
   "nbconvert_exporter": "python",
   "pygments_lexer": "ipython3",
   "version": "3.5.2"
  }
 },
 "nbformat": 4,
 "nbformat_minor": 0
}
